{
 "cells": [
  {
   "cell_type": "markdown",
   "metadata": {},
   "source": [
    "### Prerequisites:\n",
    "- Run xdpyinfo | grep dimensions\n",
    "\n",
    "### Inputs:\n",
    "- Display size, can be obtained by running: xdpyinfo | grep dimensions"
   ]
  },
  {
   "cell_type": "code",
   "execution_count": 1,
   "metadata": {},
   "outputs": [],
   "source": [
    "DISPLAY_SIZE = (1440, 878)\n",
    "ENV = 'MountainCarContinuous-v0'\n",
    "RANDOM_SEED = 101\n",
    "CLASSES_DIR = '../classes'"
   ]
  },
  {
   "cell_type": "code",
   "execution_count": 2,
   "metadata": {},
   "outputs": [
    {
     "name": "stdout",
     "output_type": "stream",
     "text": [
      "Requirement already satisfied: pyvirtualdisplay in /Users/saboulaban/anaconda3/lib/python3.6/site-packages (0.2.1)\n",
      "Requirement already satisfied: EasyProcess in /Users/saboulaban/anaconda3/lib/python3.6/site-packages (from pyvirtualdisplay) (0.2.5)\n",
      "\u001b[33mYou are using pip version 18.0, however version 19.1.1 is available.\n",
      "You should consider upgrading via the 'pip install --upgrade pip' command.\u001b[0m\n"
     ]
    }
   ],
   "source": [
    "import gym\n",
    "import numpy as np\n",
    "\n",
    "import matplotlib.pyplot as plt\n",
    "%matplotlib inline\n",
    "\n",
    "import torch\n",
    "from torch.autograd import Variable\n",
    "\n",
    "!python -m pip install pyvirtualdisplay\n",
    "from pyvirtualdisplay import Display\n",
    "display = Display(visible=0, size=DISPLAY_SIZE)\n",
    "display.start()\n",
    "\n",
    "is_ipython = 'inline' in plt.get_backend()\n",
    "if is_ipython:\n",
    "    from IPython import display\n",
    "\n",
    "plt.ion()"
   ]
  },
  {
   "cell_type": "code",
   "execution_count": 3,
   "metadata": {},
   "outputs": [],
   "source": [
    "import sys\n",
    "sys.path.insert(0, CLASSES_DIR)\n",
    "from models import Agent_Model\n",
    "from Agents import RandomSearchAgent"
   ]
  },
  {
   "cell_type": "code",
   "execution_count": 4,
   "metadata": {},
   "outputs": [],
   "source": [
    "device = torch.device(\"cuda:0\" if torch.cuda.is_available() else \"cpu\")\n",
    "\n",
    "env = gym.make(ENV)\n",
    "env.seed(RANDOM_SEED)\n",
    "np.random.seed(RANDOM_SEED)"
   ]
  },
  {
   "cell_type": "code",
   "execution_count": 5,
   "metadata": {},
   "outputs": [],
   "source": [
    "model = Agent_Model(env, device).to(device)"
   ]
  },
  {
   "cell_type": "code",
   "execution_count": 6,
   "metadata": {},
   "outputs": [],
   "source": [
    "randomAgent = RandomSearchAgent(model)"
   ]
  },
  {
   "cell_type": "code",
   "execution_count": 7,
   "metadata": {},
   "outputs": [
    {
     "name": "stdout",
     "output_type": "stream",
     "text": [
      "Episode 10\tAverage Score: -57.05\n",
      "Episode 20\tAverage Score: -29.67\n",
      "Episode 30\tAverage Score: -20.54\n",
      "Episode 40\tAverage Score: -15.97\n",
      "Episode 50\tAverage Score: -13.23\n",
      "Episode 60\tAverage Score: -11.41\n",
      "Episode 70\tAverage Score: -10.10\n",
      "Episode 80\tAverage Score: -9.12\n",
      "Episode 90\tAverage Score: -8.36\n",
      "Episode 100\tAverage Score: -0.20\n",
      "Episode 110\tAverage Score: 11.78\n",
      "Episode 120\tAverage Score: 18.10\n",
      "Episode 130\tAverage Score: 23.35\n",
      "Episode 140\tAverage Score: 29.63\n",
      "Episode 150\tAverage Score: 38.40\n",
      "Episode 160\tAverage Score: 46.93\n",
      "Episode 170\tAverage Score: 54.31\n",
      "Episode 180\tAverage Score: 61.80\n",
      "Episode 190\tAverage Score: 70.49\n",
      "Episode 200\tAverage Score: 69.34\n",
      "Episode 210\tAverage Score: 68.22\n",
      "Episode 220\tAverage Score: 69.19\n",
      "Episode 230\tAverage Score: 70.45\n",
      "Episode 240\tAverage Score: 71.67\n",
      "Episode 250\tAverage Score: 69.45\n",
      "Episode 260\tAverage Score: 69.61\n",
      "Episode 270\tAverage Score: 67.70\n",
      "Episode 280\tAverage Score: 67.47\n",
      "Episode 290\tAverage Score: 67.53\n",
      "Episode 300\tAverage Score: 69.65\n",
      "Episode 310\tAverage Score: 73.17\n",
      "Episode 320\tAverage Score: 73.53\n",
      "Episode 330\tAverage Score: 74.42\n",
      "Episode 340\tAverage Score: 73.46\n",
      "Episode 350\tAverage Score: 75.87\n",
      "Episode 360\tAverage Score: 75.53\n",
      "Episode 370\tAverage Score: 75.34\n",
      "Episode 380\tAverage Score: 74.49\n",
      "Episode 390\tAverage Score: 73.53\n",
      "Episode 400\tAverage Score: 72.64\n",
      "Episode 410\tAverage Score: 72.34\n",
      "Episode 420\tAverage Score: 71.08\n",
      "Episode 430\tAverage Score: 71.03\n",
      "Episode 440\tAverage Score: 72.18\n",
      "Episode 450\tAverage Score: 69.52\n",
      "Episode 460\tAverage Score: 68.79\n",
      "Episode 470\tAverage Score: 70.07\n",
      "Episode 480\tAverage Score: 71.20\n",
      "Episode 490\tAverage Score: 69.70\n",
      "Episode 500\tAverage Score: 69.36\n"
     ]
    }
   ],
   "source": [
    "randomAgent.train_model()"
   ]
  },
  {
   "cell_type": "code",
   "execution_count": 10,
   "metadata": {},
   "outputs": [
    {
     "data": {
      "image/png": "[encoded data removed]",
      "text/plain": [
       "<Figure size 432x288 with 1 Axes>"
      ]
     },
     "metadata": {
      "needs_background": "light"
     },
     "output_type": "display_data"
    }
   ],
   "source": [
    "fig = plt.figure()\n",
    "ax = fig.add_subplot(111)\n",
    "plt.plot(np.arange(1, len(randomAgent.scores)+1), randomAgent.scores, label='Results')\n",
    "plt.plot(np.arange(1, len(randomAgent.scores)+1), np.full(500, 90), label='Target')\n",
    "plt.ylabel('Score')\n",
    "plt.xlabel('Episode #')\n",
    "plt.title('Avergae Score over the last 100 episodes')\n",
    "plt.legend()\n",
    "plt.show()"
   ]
  },
  {
   "cell_type": "code",
   "execution_count": null,
   "metadata": {},
   "outputs": [],
   "source": []
  }
 ],
 "metadata": {
  "kernelspec": {
   "display_name": "drlnd",
   "language": "python",
   "name": "drlnd"
  },
  "language_info": {
   "codemirror_mode": {
    "name": "ipython",
    "version": 3
   },
   "file_extension": ".py",
   "mimetype": "text/x-python",
   "name": "python",
   "nbconvert_exporter": "python",
   "pygments_lexer": "ipython3",
   "version": "3.6.8"
  }
 },
 "nbformat": 4,
 "nbformat_minor": 2
}
