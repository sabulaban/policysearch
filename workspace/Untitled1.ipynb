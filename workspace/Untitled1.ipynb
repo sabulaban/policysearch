{
 "cells": [
  {
   "cell_type": "code",
   "execution_count": null,
   "metadata": {},
   "outputs": [],
   "source": [
    "import numpy as np"
   ]
  },
  {
   "cell_type": "code",
   "execution_count": null,
   "metadata": {},
   "outputs": [],
   "source": [
    "class RandomSearchAgent:\n",
    "    def __init__(self, agent_model, episodes=500, max_t=1000, gamma=1.0, print_every=10, sigma=0.5):\n",
    "        self.episodes = episodes\n",
    "        self.max_t = max_t\n",
    "        self.gamma = gamma\n",
    "        self.print_every = print_every\n",
    "        self.scores = []\n",
    "        self.sigma = sigma\n",
    "        self.agent_model = agent_model\n",
    "        self.scores_deque = deque(maxlen=100)\n",
    "    def train_model(self):\n",
    "        best_rewards = -np.inf\n",
    "        for episode in range(1, self.episodes+1):\n",
    "            weights = np.random.randn(self.agent_model.get_weights_dim())\n",
    "            rewards = np.array(self.agent_model.evaluate(weights, self.gamma, self.max_t))\n",
    "            if rewards > best_rewards:\n",
    "                best_rewards = rewards\n",
    "                self.agent_model.set_weights(weights)\n",
    "                self.best_weight = weights\n",
    "            reward = self.agent_model.evaluate(self.best_weight, self.gamma)\n",
    "            self.scores_deque.append(reward)\n",
    "            self.scores.append(reward)\n",
    "            if episode % self.print_every == 0:\n",
    "                print('Episode {}\\tAverage Score: {:.2f}'.format(episode, np.mean(self.scores_deque)))\n",
    "            if np.mean(self.scores_deque)>=90.0:\n",
    "                print('\\nEnvironment solved in {:d} iterations!\\tAverage Score: {:.2f}'.format(episode-100, np.mean(self.scores_deque)))\n",
    "                break\n",
    "\n"
   ]
  }
 ],
 "metadata": {
  "kernelspec": {
   "display_name": "drlnd",
   "language": "python",
   "name": "drlnd"
  },
  "language_info": {
   "codemirror_mode": {
    "name": "ipython",
    "version": 3
   },
   "file_extension": ".py",
   "mimetype": "text/x-python",
   "name": "python",
   "nbconvert_exporter": "python",
   "pygments_lexer": "ipython3",
   "version": "3.6.8"
  }
 },
 "nbformat": 4,
 "nbformat_minor": 2
}
